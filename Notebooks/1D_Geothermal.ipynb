{
 "cells": [
  {
   "cell_type": "markdown",
   "metadata": {},
   "source": [
    "## <font color='blue'>Introduction</font>\n",
    "\n",
    "#### In the first case study, we cover the basic structures and procedures to run simulation with DARTS. \n",
    "#### DARTS contains two main modules: \n",
    "* <font color='red'>engines</font>  \n",
    "* <font color='red'>physics</font> \n",
    "    \n",
    "#### These modules are programmed in C++ and exposed to python with compiled packages (libraries) named as\n",
    "* <font color='red'>engines.pyd</font>\n",
    "* <font color='red'>physics.pyd</font>\n",
    "\n",
    "  \n",
    "#### Module engines.pyd provides the run-simulation needed functionalities, like\n",
    "* reservoir (mesh) initialization\n",
    "* well settings\n",
    "* interpolation operation\n",
    "* jacobian assembly\n",
    "* linear and nonlinear iteration\n",
    "\n",
    "#### Module physics.pyd provides the property-calculation needed functionalities, like\n",
    "* water/steam properties\n",
    "* operator values\n",
    "\n",
    "#### Both of them could be found in the folder <font color='red'>'darts'</font>.\n",
    "\n",
    "## <font color='blue'>The objectives for the first exercise</font>\n",
    "1. Be familiar with the basic procedures to run a simulation\n",
    "2. Exercise on several simulation parameters including timestep controls and mesh "
   ]
  },
  {
   "cell_type": "markdown",
   "metadata": {},
   "source": [
    "## Geothermal physics used in DARTS"
   ]
  },
  {
   "cell_type": "markdown",
   "metadata": {},
   "source": [
    "<img style=\"float: left;\" src=\"slides/Slide2.JPG\" width=\"60%\">"
   ]
  },
  {
   "cell_type": "markdown",
   "metadata": {},
   "source": [
    "<img style=\"float: left;\" src=\"slides/Slide4.JPG\" width=\"60%\">"
   ]
  },
  {
   "cell_type": "markdown",
   "metadata": {},
   "source": [
    "## 1D Model can be divided into following parts:\n",
    "<img style=\"float: left;\" src=\"slides/Slide7.JPG\" width=\"60%\">"
   ]
  },
  {
   "cell_type": "markdown",
   "metadata": {},
   "source": [
    "## <font color='blue'>Let's start !</font>\n",
    "### Step 1. We need to import <font color='red'>engines</font> and  <font color='red'>physics</font> into the workspace, just like the import of commonly-used modules such as numpy, matplotlib, scipy etc."
   ]
  },
  {
   "cell_type": "code",
   "execution_count": 2,
   "metadata": {},
   "outputs": [],
   "source": [
    "from darts.models.physics.geothermal import Geothermal\n",
    "from darts.models.physics.iapws.iapws_property import *\n",
    "from darts.engines import *\n",
    "import numpy as np"
   ]
  },
  {
   "cell_type": "markdown",
   "metadata": {},
   "source": [
    "### Step 2. We need to specify the time recorder, which could help to make sure about the performance of the simulator in different parts. Timers can be created in hierachical order."
   ]
  },
  {
   "cell_type": "code",
   "execution_count": 3,
   "metadata": {},
   "outputs": [],
   "source": [
    "# Call class constructor and Build timer_node object\n",
    "timer = timer_node()\n",
    "\n",
    "# Call object members; there are 2 types of members:\n",
    "## <1>Function member:\n",
    "timer.start()\n",
    "## <2>Data member:\n",
    "timer.node[\"simulation\"] = timer_node()\n",
    "timer.node[\"initialization\"] = timer_node()\n",
    "\n",
    "# Start initialization\n",
    "timer.node[\"initialization\"].start()"
   ]
  },
  {
   "cell_type": "markdown",
   "metadata": {},
   "source": [
    "### Step 3. Simulation parameters setting. This section specifies the simulation parameters, which will control, for example:\n",
    "\n",
    "* timestep strategy (first_ts, max_ts, mult_ts)\n",
    "* convergence criteria (tolerance of nonlinear iteration and other parameters controlling iterations)"
   ]
  },
  {
   "cell_type": "code",
   "execution_count": 4,
   "metadata": {},
   "outputs": [],
   "source": [
    "# Build a sim_params object by calling constructor\n",
    "params = sim_params()\n",
    "\n",
    "# Adjust time step settings\n",
    "# First time step (time unit: day)\n",
    "params.first_ts = 0.01\n",
    "\n",
    "# Time step multiplier\n",
    "params.mult_ts = 4\n",
    "\n",
    "# Maximum time step\n",
    "params.max_ts = 1\n",
    "\n",
    "# Newton tolerance\n",
    "params.tolerance_newton = 1e-5"
   ]
  },
  {
   "cell_type": "markdown",
   "metadata": {},
   "source": [
    "### Step 4. Mesh initialization\n",
    "<img style=\"float: left;\" src=\"slides/Slide12.JPG\" width=\"60%\">"
   ]
  },
  {
   "cell_type": "code",
   "execution_count": 5,
   "metadata": {},
   "outputs": [
    {
     "data": {
      "text/plain": [
       "0"
      ]
     },
     "execution_count": 5,
     "metadata": {},
     "output_type": "execute_result"
    }
   ],
   "source": [
    "'''Mesh initialization for 1D reservoir with constant transmissibility'''\n",
    "# Create mesh object by calling the class constructor\n",
    "mesh = conn_mesh()\n",
    "\n",
    "# Set grid block (mesh) number\n",
    "nb = 30\n",
    "\n",
    "# Create connection list for 1D reservoir \n",
    "block_m = np.arange(nb - 1)\n",
    "block_p = block_m + 1\n",
    "\n",
    "# Set constant transmissbility\n",
    "permeability = 2\n",
    "tranD = np.ones(nb - 1) * 0.1\n",
    "tran = tranD * permeability\n",
    "\n",
    "# Initialize mesh with connection list\n",
    "mesh.init(index_vector(block_m), index_vector(block_p),\n",
    "          value_vector(tran), value_vector(tranD))\n",
    "\n",
    "# Complete mesh initialization\n",
    "mesh.reverse_and_sort()"
   ]
  },
  {
   "cell_type": "markdown",
   "metadata": {},
   "source": [
    "### Step 5. Define properties\n",
    "* connecting numpy arrays to the mesh\n",
    "* fill porosity, depth, volume, conduction and heat capacity\n",
    "* imitate boundary conditions with large volumes"
   ]
  },
  {
   "cell_type": "code",
   "execution_count": 6,
   "metadata": {},
   "outputs": [],
   "source": [
    "# Create numpy arrays wrapped around mesh data (no copying)\n",
    "volume = np.array(mesh.volume, copy=False)\n",
    "porosity = np.array(mesh.poro, copy=False)\n",
    "depth = np.array(mesh.depth, copy=False)\n",
    "\n",
    "# Thermal properties\n",
    "hcap = np.array(mesh.heat_capacity, copy=False)\n",
    "cond = np.array(mesh.rock_cond, copy=False)\n",
    "\n",
    "# Assign volume, porosity and depth values\n",
    "volume.fill(300)\n",
    "porosity.fill(0.2)\n",
    "depth.fill(1000)\n",
    "\n",
    "# Assign thermal properties\n",
    "hcap.fill(2200)\n",
    "cond.fill(230)\n",
    "\n",
    "# Make first and last blocks large (source/sink)\n",
    "volume[0] = 1e10\n",
    "volume[nb-1] = 1e10"
   ]
  },
  {
   "cell_type": "markdown",
   "metadata": {},
   "source": [
    "### Step 6. Boundary and initial conditions\n",
    "* initial reservoir conditions\n",
    "* pressure source and sink\n",
    "* translation from temperature to enthalpy"
   ]
  },
  {
   "cell_type": "code",
   "execution_count": 7,
   "metadata": {},
   "outputs": [],
   "source": [
    "# Create numpy wrappers for initial solution\n",
    "pressure = np.array(mesh.pressure, copy=False) \n",
    "enthalpy =  np.array(mesh.enthalpy, copy=False)\n",
    "\n",
    "# Assign initial pressure values\n",
    "pressure.fill(200)\n",
    "pressure[0] = 250\n",
    "pressure[nb-1] = 150\n",
    "\n",
    "# Assign enthalpy values:\n",
    "# first, define initial temperature (Kelvin) ...\n",
    "temp = 348 * np.ones(nb)\n",
    "temp[0] = 308\n",
    "\n",
    "# then, convert temperature to initial enthalpy (kJ/kg)\n",
    "for i in range(0, len(temp)):   \n",
    "    state = value_vector([pressure[i], 0])\n",
    "    E = iapws_total_enthalpy_evalutor(temp[i])\n",
    "    enthalpy[i] = E.evaluate(state)"
   ]
  },
  {
   "cell_type": "markdown",
   "metadata": {},
   "source": [
    "### Step 7. Physics initialization\n",
    "* translate temperature range to enthalpy\n",
    "* initialize physical ranges"
   ]
  },
  {
   "cell_type": "code",
   "execution_count": 8,
   "metadata": {},
   "outputs": [],
   "source": [
    "# Define function to calculate enthalpy range corresponding to given pressure and temperature ranges\n",
    "def calc_enthalpy_range(pres, temp):\n",
    "    min_e = 1e5\n",
    "    max_e = 0\n",
    "    for i in range(len(pres)):\n",
    "        for j in range(len(pres)):\n",
    "            state = value_vector([pres[i], 0])\n",
    "            E = iapws_total_enthalpy_evalutor(temp[i])\n",
    "            enth = E.evaluate(state)\n",
    "            if min_e > enth:\n",
    "                min_e = enth\n",
    "            if max_e < enth:\n",
    "                max_e = enth\n",
    "    return min_e, max_e\n",
    "\n",
    "# Define pressure and temeprature ranges for the problem\n",
    "min_p = 1\n",
    "max_p = 351\n",
    "min_T = 273.15\n",
    "max_T = 500\n",
    "\n",
    "# Evaluate enthalpy range\n",
    "min_e, max_e  = calc_enthalpy_range([min_p, max_p], [min_T, max_T]) \n",
    "\n",
    "# Define amount of points for OBL \n",
    "n_points = 64\n",
    "\n",
    "# Build physics class; the format of constructor:\n",
    "# Geothermal(timer, n_points, min_pres, max_pres, min_enth, max_enth)\n",
    "physics = Geothermal(timer, n_points, min_p, max_p, min_e, max_e)"
   ]
  },
  {
   "cell_type": "markdown",
   "metadata": {},
   "source": [
    "### Step 8. Engine initialization and run\n",
    "<img style=\"float: left;\" src=\"slides/Slide16.JPG\" width=\"60%\">"
   ]
  },
  {
   "cell_type": "code",
   "execution_count": 9,
   "metadata": {
    "scrolled": false
   },
   "outputs": [
    {
     "name": "stdout",
     "output_type": "stream",
     "text": [
      "Total elapsed 2.955000 sec\n",
      "\tinitialization 0.275000 sec\n",
      "\tsimulation 2.679000 sec\n",
      "\t\tjacobian assembly 2.016000 sec\n",
      "\t\t\tinterpolation 1.994000 sec\n",
      "\t\t\t\treservoir interpolation 2.140000 sec\n",
      "\t\t\t\t\tbody generation 2.114000 sec\n",
      "\t\t\t\t\t\tpoint generation 2.113000 sec\n",
      "\t\t\t\twell controls interpolation 0.000000 sec\n",
      "\t\t\t\twell interpolation 0.000000 sec\n",
      "\t\tlinear solver setup 0.027000 sec\n",
      "\t\t\tGMRES 0.026000 sec\n",
      "\t\t\t\tCPR 0.025000 sec\n",
      "\t\t\t\t\tAMG 0.016000 sec\n",
      "\t\t\t\t\tILU(0) 0.006000 sec\n",
      "\t\tlinear solver solve 0.026000 sec\n",
      "\t\t\tGMRES 0.024000 sec\n",
      "\t\t\t\tCPR 0.019000 sec\n",
      "\t\t\t\t\tAMG 0.010000 sec\n",
      "\t\t\t\t\tILU(0) 0.004000 sec\n",
      "\t\t\t\tSPMV_bsr 0.002000 sec\n",
      "\t\t\t\tprec_comm 0.000000 sec\n",
      "\t\tnewton update 0.004000 sec\n",
      "\t\t\tcomposition correction 0.001000 sec\n",
      "\n"
     ]
    }
   ],
   "source": [
    "# Initialize engine\n",
    "physics.engine.init(mesh, ms_well_vector(),\n",
    "                    op_vector([physics.acc_flux_itor]),\n",
    "                    params, timer.node[\"simulation\"])\n",
    "\n",
    "# Stop initialization timer\n",
    "timer.node[\"initialization\"].stop()\n",
    "\n",
    "# Run simulator for 2000 days\n",
    "physics.engine.run(2000)\n",
    "\n",
    "# Print timers (note where most of the time was spent!)\n",
    "print(timer.print(\"\", \"\"))"
   ]
  },
  {
   "cell_type": "markdown",
   "metadata": {},
   "source": [
    "### Step 9. Data processing and plots"
   ]
  },
  {
   "cell_type": "code",
   "execution_count": 10,
   "metadata": {},
   "outputs": [],
   "source": [
    "# Define function to convert enthalpy to temperature\n",
    "def enthalpy_to_temperature(pres, enth):\n",
    "    state = value_vector([0, 0])\n",
    "    temp = np.zeros(len(pres))\n",
    "    T = iapws_temperature_evaluator()\n",
    "    for i in range(len(pres)):\n",
    "        state[0] = pres[i]\n",
    "        state[1] = enth[i]\n",
    "        temp[i] = T.evaluate(state)\n",
    "    return temp"
   ]
  },
  {
   "cell_type": "code",
   "execution_count": 11,
   "metadata": {},
   "outputs": [],
   "source": [
    "# Define function to plot arbitrary data profile\n",
    "%matplotlib inline\n",
    "def plot_profile(data, name, sp, ax):\n",
    "    n = len(data)    \n",
    "    ax.plot(np.arange(n), data[0:n], 'o')\n",
    "    ax.set_xlabel('Grid index')\n",
    "    ax.set_ylabel('%s' % (name))\n",
    "    #ax.xlim([0, n])"
   ]
  },
  {
   "cell_type": "code",
   "execution_count": 12,
   "metadata": {},
   "outputs": [
    {
     "data": {
      "text/plain": [
       "<Figure size 432x288 with 0 Axes>"
      ]
     },
     "metadata": {},
     "output_type": "display_data"
    }
   ],
   "source": [
    "# Get numpy wrapper for final solution\n",
    "X = np.array(physics.engine.X, copy=False)\n",
    "\n",
    "# Prepare for plotting\n",
    "import matplotlib.pyplot as plt\n",
    "fig = plt.figure()    "
   ]
  },
  {
   "cell_type": "markdown",
   "metadata": {},
   "source": [
    "#### Solution of problem - blockwise array: $[\\{p_1,h_1\\},\\{p_2,h_2\\},\\ldots,\\{p_n,h_n\\}]$\n"
   ]
  },
  {
   "cell_type": "markdown",
   "metadata": {},
   "source": [
    "<img style=\"float: left;\" src=\"slides/Slide19.JPG\" width=\"60%\">"
   ]
  },
  {
   "cell_type": "code",
   "execution_count": 13,
   "metadata": {
    "scrolled": false
   },
   "outputs": [
    {
     "data": {
      "image/png": "[encoded data removed]",
      "text/plain": [
       "<Figure size 720x288 with 2 Axes>"
      ]
     },
     "metadata": {
      "needs_background": "light"
     },
     "output_type": "display_data"
    }
   ],
   "source": [
    "fig, axes = plt.subplots(1, 2, figsize=(10, 4))\n",
    "# Plot pressure profile\n",
    "plot_profile(X[0:2*nb:2],'Pressure, bar',1,axes[0])\n",
    "# Convert enthalpy to temperature first before plotting\n",
    "temp = enthalpy_to_temperature(X[0::2], X[1::2])\n",
    "# Plot temperature profile\n",
    "plot_profile(temp[0:nb]-273.15,'Temperature, C', 2, axes[1])"
   ]
  },
  {
   "cell_type": "markdown",
   "metadata": {},
   "source": [
    "<img style=\"float: left;\" src=\"slides/Slide20.JPG\" width=\"60%\">"
   ]
  },
  {
   "cell_type": "code",
   "execution_count": null,
   "metadata": {},
   "outputs": [],
   "source": []
  },
  {
   "cell_type": "markdown",
   "metadata": {},
   "source": [
    "<img style=\"float: left;\" src=\"slides/Slide21.JPG\" width=\"60%\">"
   ]
  },
  {
   "cell_type": "code",
   "execution_count": null,
   "metadata": {},
   "outputs": [],
   "source": []
  },
  {
   "cell_type": "markdown",
   "metadata": {},
   "source": [
    "<img style=\"float: left;\" src=\"slides/Slide22.JPG\" width=\"60%\">"
   ]
  },
  {
   "cell_type": "code",
   "execution_count": null,
   "metadata": {},
   "outputs": [],
   "source": []
  },
  {
   "cell_type": "markdown",
   "metadata": {},
   "source": [
    "<img style=\"float: left;\" src=\"slides/Slide23.JPG\" width=\"60%\">"
   ]
  },
  {
   "cell_type": "code",
   "execution_count": null,
   "metadata": {},
   "outputs": [],
   "source": []
  }
 ],
 "metadata": {
  "kernelspec": {
   "display_name": "Python 3 (ipykernel)",
   "language": "python",
   "name": "python3"
  },
  "language_info": {
   "codemirror_mode": {
    "name": "ipython",
    "version": 3
   },
   "file_extension": ".py",
   "mimetype": "text/x-python",
   "name": "python",
   "nbconvert_exporter": "python",
   "pygments_lexer": "ipython3",
   "version": "3.9.12"
  }
 },
 "nbformat": 4,
 "nbformat_minor": 2
}
